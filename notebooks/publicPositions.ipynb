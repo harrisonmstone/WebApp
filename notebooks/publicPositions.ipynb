{
  "nbformat": 4,
  "nbformat_minor": 0,
  "metadata": {
    "colab": {
      "provenance": []
    },
    "kernelspec": {
      "name": "python3",
      "display_name": "Python 3"
    },
    "language_info": {
      "name": "python"
    }
  },
  "cells": [
    {
      "cell_type": "markdown",
      "source": [
        "1. Fetch stock prices via API\n",
        "2. Reads excel spreadsheet for Number of Shares\n",
        "3. Multiplies the two for Stock Value\n",
        "4. Updates Excel spreadsheet\n",
        "5. Updates the Power Point template\n",
        "6. Set to update automatically every Monday at 9am"
      ],
      "metadata": {
        "id": "KZDSBikGjsRX"
      }
    },
    {
      "cell_type": "code",
      "source": [
        "from google.colab import drive\n",
        "drive.mount('/content/drive')"
      ],
      "metadata": {
        "colab": {
          "base_uri": "https://localhost:8080/"
        },
        "id": "3BVEC5GdOhpA",
        "outputId": "c391c8ee-d5a6-4ba4-b3b1-8b4419190fae"
      },
      "execution_count": null,
      "outputs": [
        {
          "output_type": "stream",
          "name": "stdout",
          "text": [
            "Drive already mounted at /content/drive; to attempt to forcibly remount, call drive.mount(\"/content/drive\", force_remount=True).\n"
          ]
        }
      ]
    },
    {
      "cell_type": "code",
      "execution_count": null,
      "metadata": {
        "colab": {
          "base_uri": "https://localhost:8080/"
        },
        "id": "O_TSsJlYH8wL",
        "outputId": "ba695acb-cfde-42cc-8326-b3c499ece1df"
      },
      "outputs": [
        {
          "output_type": "stream",
          "name": "stdout",
          "text": [
            "Requirement already satisfied: requests in /usr/local/lib/python3.10/dist-packages (2.32.3)\n",
            "Requirement already satisfied: pandas in /usr/local/lib/python3.10/dist-packages (2.2.2)\n",
            "Requirement already satisfied: openpyxl in /usr/local/lib/python3.10/dist-packages (3.1.5)\n",
            "Collecting python-pptx\n",
            "  Downloading python_pptx-1.0.2-py3-none-any.whl.metadata (2.5 kB)\n",
            "Requirement already satisfied: charset-normalizer<4,>=2 in /usr/local/lib/python3.10/dist-packages (from requests) (3.4.0)\n",
            "Requirement already satisfied: idna<4,>=2.5 in /usr/local/lib/python3.10/dist-packages (from requests) (3.10)\n",
            "Requirement already satisfied: urllib3<3,>=1.21.1 in /usr/local/lib/python3.10/dist-packages (from requests) (2.2.3)\n",
            "Requirement already satisfied: certifi>=2017.4.17 in /usr/local/lib/python3.10/dist-packages (from requests) (2024.8.30)\n",
            "Requirement already satisfied: numpy>=1.22.4 in /usr/local/lib/python3.10/dist-packages (from pandas) (1.26.4)\n",
            "Requirement already satisfied: python-dateutil>=2.8.2 in /usr/local/lib/python3.10/dist-packages (from pandas) (2.8.2)\n",
            "Requirement already satisfied: pytz>=2020.1 in /usr/local/lib/python3.10/dist-packages (from pandas) (2024.2)\n",
            "Requirement already satisfied: tzdata>=2022.7 in /usr/local/lib/python3.10/dist-packages (from pandas) (2024.2)\n",
            "Requirement already satisfied: et-xmlfile in /usr/local/lib/python3.10/dist-packages (from openpyxl) (1.1.0)\n",
            "Requirement already satisfied: Pillow>=3.3.2 in /usr/local/lib/python3.10/dist-packages (from python-pptx) (10.4.0)\n",
            "Collecting XlsxWriter>=0.5.7 (from python-pptx)\n",
            "  Downloading XlsxWriter-3.2.0-py3-none-any.whl.metadata (2.6 kB)\n",
            "Requirement already satisfied: lxml>=3.1.0 in /usr/local/lib/python3.10/dist-packages (from python-pptx) (4.9.4)\n",
            "Requirement already satisfied: typing-extensions>=4.9.0 in /usr/local/lib/python3.10/dist-packages (from python-pptx) (4.12.2)\n",
            "Requirement already satisfied: six>=1.5 in /usr/local/lib/python3.10/dist-packages (from python-dateutil>=2.8.2->pandas) (1.16.0)\n",
            "Downloading python_pptx-1.0.2-py3-none-any.whl (472 kB)\n",
            "\u001b[2K   \u001b[90m━━━━━━━━━━━━━━━━━━━━━━━━━━━━━━━━━━━━━━━━\u001b[0m \u001b[32m472.8/472.8 kB\u001b[0m \u001b[31m8.8 MB/s\u001b[0m eta \u001b[36m0:00:00\u001b[0m\n",
            "\u001b[?25hDownloading XlsxWriter-3.2.0-py3-none-any.whl (159 kB)\n",
            "\u001b[2K   \u001b[90m━━━━━━━━━━━━━━━━━━━━━━━━━━━━━━━━━━━━━━━━\u001b[0m \u001b[32m159.9/159.9 kB\u001b[0m \u001b[31m7.6 MB/s\u001b[0m eta \u001b[36m0:00:00\u001b[0m\n",
            "\u001b[?25hInstalling collected packages: XlsxWriter, python-pptx\n",
            "Successfully installed XlsxWriter-3.2.0 python-pptx-1.0.2\n"
          ]
        }
      ],
      "source": [
        "!pip3 install requests pandas openpyxl python-pptx"
      ]
    },
    {
      "cell_type": "code",
      "source": [
        "import requests\n",
        "import openpyxl\n",
        "import os\n",
        "import pandas as pd\n",
        "# Establish API KEY and URL\n",
        "API_KEY = '3UBUGQ9UI4WEECY9'\n",
        "URL = 'https://www.alphavantage.co/query'\n",
        "def OWLT():\n",
        "  #Function that takes stock symbol like 'AAPL' and returns latest closed stock price\n",
        "  def get_stock_price(symbol):\n",
        "    #These parameters are needed to pass to the alpha vantage page request\n",
        "    params = {\n",
        "        'function': 'time_series_daily',\n",
        "        'symbol': symbol,\n",
        "        'apikey': API_KEY,\n",
        "        'outputsize': 'compact'\n",
        "    }\n",
        "    #Response gets all the data for the specified stock\n",
        "    response = requests.get(URL, params=params)\n",
        "    #Data holds this data in json format\n",
        "    data = response.json()\n",
        "    #This queries the time stamps to keep only the most recent day\n",
        "    latest_date = list(data['Time Series (Daily)'].keys())[0]\n",
        "    # this returns only the most recent closing price\n",
        "    return data['Time Series (Daily)'][latest_date]['4. close']\n",
        "  #variable to represent this function output\n",
        "  stock_price = get_stock_price('OWLT')\n",
        "  stock_price = float(stock_price)\n",
        "\n",
        "  #function to get Number of Shares from excel spreadsheet\n",
        "  def read_excel(file_path, cell):\n",
        "    #Identify value of cell within specified sheet and workbook\n",
        "    workbook = openpyxl.load_workbook(file_path, data_only=True)\n",
        "    sheet = workbook['Final']\n",
        "    return sheet[cell].value\n",
        "  #identify path to spreadsheet\n",
        "  file_path = '/content/drive/MyDrive/Pitch Prices Auto/PricePositions.xlsx'\n",
        "  #variable for number of shares in spreadsheet\n",
        "  num_shares = read_excel(file_path, 'C10')\n",
        "  # stock_price = f\"{round(float(stock_price),2):.2f}\"\n",
        "  stock_price = float(stock_price)\n",
        "  num_shares = float(num_shares)\n",
        "  #Multiply number of stocks and stock price for overall value\n",
        "  stock_value = round(num_shares * stock_price)\n",
        "\n",
        "  #Function to update excel with the stock value\n",
        "  def update_stock_value(file_path, stock_value, cell):\n",
        "    #Input stock value to specified cell\n",
        "    workbook = openpyxl.load_workbook(file_path)\n",
        "    sheet = workbook['Final']\n",
        "    sheet[cell] = stock_value\n",
        "    workbook.save(file_path)\n",
        "  #Call update function\n",
        "  update_stock_value(file_path, stock_value, 'C13')\n",
        "\n",
        "  #Function to update excel with the stock value\n",
        "  def update_stock_price(file_path, stock_price, cell):\n",
        "    #Input stock value to specified cell\n",
        "    workbook = openpyxl.load_workbook(file_path)\n",
        "    sheet = workbook['Final']\n",
        "    sheet[cell] = stock_price\n",
        "    workbook.save(file_path)\n",
        "  #Call update function\n",
        "  update_stock_price(file_path, stock_price, 'C11')\n",
        "\n",
        "  #Check with spreadsheet\n",
        "  print(stock_price)\n",
        "  print(num_shares)\n",
        "  print(stock_value)\n",
        "\n",
        "OWLT()"
      ],
      "metadata": {
        "colab": {
          "base_uri": "https://localhost:8080/"
        },
        "id": "IwIG2ZKBKPv9",
        "outputId": "5980d22a-0ad7-48b2-fed5-51c574bb1223"
      },
      "execution_count": null,
      "outputs": [
        {
          "output_type": "stream",
          "name": "stdout",
          "text": [
            "5.17\n",
            "325471.0\n",
            "1682685\n"
          ]
        }
      ]
    },
    {
      "cell_type": "code",
      "source": [
        "import requests\n",
        "import openpyxl\n",
        "import os\n",
        "import pandas as pd\n",
        "# Establish API KEY and URL\n",
        "API_KEY = '3UBUGQ9UI4WEECY9'\n",
        "URL = 'https://www.alphavantage.co/query'\n",
        "def RCAT():\n",
        "  #Function that takes stock symbol like 'AAPL' and returns latest closed stock price\n",
        "  def get_stock_price(symbol):\n",
        "    #These parameters are needed to pass to the alpha vantage page request\n",
        "    params = {\n",
        "        'function': 'time_series_daily',\n",
        "        'symbol': symbol,\n",
        "        'apikey': API_KEY,\n",
        "        'outputsize': 'compact'\n",
        "    }\n",
        "    #Response gets all the data for the specified stock\n",
        "    response = requests.get(URL, params=params)\n",
        "    #Data holds this data in json format\n",
        "    data = response.json()\n",
        "    #This queries the time stamps to keep only the most recent day\n",
        "    latest_date = list(data['Time Series (Daily)'].keys())[0]\n",
        "    # this returns only the most recent closing price\n",
        "    return data['Time Series (Daily)'][latest_date]['4. close']\n",
        "  #variable to represent this function output\n",
        "  stock_price = get_stock_price('RCAT')\n",
        "  stock_price = float(stock_price)\n",
        "\n",
        "  #function to get Number of Shares from excel spreadsheet\n",
        "  def read_excel(file_path, cell):\n",
        "    #Identify value of cell within specified sheet and workbook\n",
        "    workbook = openpyxl.load_workbook(file_path, data_only=True)\n",
        "    sheet = workbook['Final']\n",
        "    return sheet[cell].value\n",
        "  #identify path to spreadsheet\n",
        "  file_path = '/content/drive/MyDrive/Pitch Prices Auto/PricePositions.xlsx'\n",
        "  #variable for number of shares in spreadsheet\n",
        "  num_shares = read_excel(file_path, 'B17')\n",
        "  # stock_price = f\"{round(float(stock_price),2):.2f}\"\n",
        "  stock_price = float(stock_price)\n",
        "  num_shares = float(num_shares)\n",
        "  #Multiply number of stocks and stock price for overall value\n",
        "  stock_value = round(num_shares * stock_price)\n",
        "\n",
        "  #Function to update excel with the stock value\n",
        "  def update_stock_value(file_path, stock_value, cell):\n",
        "    #Input stock value to specified cell\n",
        "    workbook = openpyxl.load_workbook(file_path)\n",
        "    sheet = workbook['Final']\n",
        "    sheet[cell] = stock_value\n",
        "    workbook.save(file_path)\n",
        "  #Call update function\n",
        "  update_stock_value(file_path, stock_value, 'B20')\n",
        "\n",
        "  #Function to update excel with the stock value\n",
        "  def update_stock_price(file_path, stock_price, cell):\n",
        "    #Input stock value to specified cell\n",
        "    workbook = openpyxl.load_workbook(file_path)\n",
        "    sheet = workbook['Final']\n",
        "    sheet[cell] = stock_price\n",
        "    workbook.save(file_path)\n",
        "  #Call update function\n",
        "  update_stock_price(file_path, stock_price, 'B18')\n",
        "\n",
        "  #Check with spreadsheet\n",
        "  print(stock_price)\n",
        "  print(num_shares)\n",
        "  print(stock_value)\n",
        "\n",
        "RCAT()"
      ],
      "metadata": {
        "id": "o0v-08Y5We61",
        "colab": {
          "base_uri": "https://localhost:8080/"
        },
        "outputId": "d00ecfd8-7b36-4a0f-b7fb-ac09f71b23ac"
      },
      "execution_count": null,
      "outputs": [
        {
          "output_type": "stream",
          "name": "stdout",
          "text": [
            "2.97\n",
            "898278.0\n",
            "2667886\n"
          ]
        }
      ]
    },
    {
      "cell_type": "code",
      "source": [
        "import requests\n",
        "import openpyxl\n",
        "import os\n",
        "import pandas as pd\n",
        "# Establish API KEY and URL\n",
        "API_KEY = '3UBUGQ9UI4WEECY9'\n",
        "URL = 'https://www.alphavantage.co/query'\n",
        "def BILL():\n",
        "  #Function that takes stock symbol like 'AAPL' and returns latest closed stock price\n",
        "  def get_stock_price(symbol):\n",
        "    #These parameters are needed to pass to the alpha vantage page request\n",
        "    params = {\n",
        "        'function': 'time_series_daily',\n",
        "        'symbol': symbol,\n",
        "        'apikey': API_KEY,\n",
        "        'outputsize': 'compact'\n",
        "    }\n",
        "    #Response gets all the data for the specified stock\n",
        "    response = requests.get(URL, params=params)\n",
        "    #Data holds this data in json format\n",
        "    data = response.json()\n",
        "    #This queries the time stamps to keep only the most recent day\n",
        "    latest_date = list(data['Time Series (Daily)'].keys())[0]\n",
        "    # this returns only the most recent closing price\n",
        "    return data['Time Series (Daily)'][latest_date]['4. close']\n",
        "  #variable to represent this function output\n",
        "  stock_price = get_stock_price('BILL')\n",
        "  stock_price = float(stock_price)\n",
        "\n",
        "  #function to get Number of Shares from excel spreadsheet\n",
        "  def read_excel(file_path, cell):\n",
        "    #Identify value of cell within specified sheet and workbook\n",
        "    workbook = openpyxl.load_workbook(file_path, data_only=True)\n",
        "    sheet = workbook['Final']\n",
        "    return sheet[cell].value\n",
        "  #identify path to spreadsheet\n",
        "  file_path = '/content/drive/MyDrive/Pitch Prices Auto/PricePositions.xlsx'\n",
        "  #variable for number of shares in spreadsheet\n",
        "  num_shares = read_excel(file_path, 'B24')\n",
        "  # stock_price = f\"{round(float(stock_price),2):.2f}\"\n",
        "  stock_price = float(stock_price)\n",
        "  num_shares = float(num_shares)\n",
        "  #Multiply number of stocks and stock price for overall value\n",
        "  stock_value = round(num_shares * stock_price)\n",
        "\n",
        "  #Function to update excel with the stock value\n",
        "  def update_stock_value(file_path, stock_value, cell):\n",
        "    #Input stock value to specified cell\n",
        "    workbook = openpyxl.load_workbook(file_path)\n",
        "    sheet = workbook['Final']\n",
        "    sheet[cell] = stock_value\n",
        "    workbook.save(file_path)\n",
        "  #Call update function\n",
        "  update_stock_value(file_path, stock_value, 'B27')\n",
        "\n",
        "  #Function to update excel with the stock value\n",
        "  def update_stock_price(file_path, stock_price, cell):\n",
        "    #Input stock value to specified cell\n",
        "    workbook = openpyxl.load_workbook(file_path)\n",
        "    sheet = workbook['Final']\n",
        "    sheet[cell] = stock_price\n",
        "    workbook.save(file_path)\n",
        "  #Call update function\n",
        "  update_stock_price(file_path, stock_price, 'B25')\n",
        "\n",
        "  #Check with spreadsheet\n",
        "  print(stock_price)\n",
        "  print(num_shares)\n",
        "  print(stock_value)\n",
        "\n",
        "BILL()"
      ],
      "metadata": {
        "id": "prkC-xD0eb-1",
        "colab": {
          "base_uri": "https://localhost:8080/"
        },
        "outputId": "f051e237-5e38-4a31-ef98-73ced4f50b67"
      },
      "execution_count": null,
      "outputs": [
        {
          "output_type": "stream",
          "name": "stdout",
          "text": [
            "57.03\n",
            "1167344.0\n",
            "66573628\n"
          ]
        }
      ]
    },
    {
      "cell_type": "code",
      "source": [
        "import requests\n",
        "import openpyxl\n",
        "import os\n",
        "import pandas as pd\n",
        "# Establish API KEY and URL\n",
        "API_KEY = '3UBUGQ9UI4WEECY9'\n",
        "URL = 'https://www.alphavantage.co/query'\n",
        "def WEAV():\n",
        "  #Function that takes stock symbol like 'AAPL' and returns latest closed stock price\n",
        "  def get_stock_price(symbol):\n",
        "    #These parameters are needed to pass to the alpha vantage page request\n",
        "    params = {\n",
        "        'function': 'time_series_daily',\n",
        "        'symbol': symbol,\n",
        "        'apikey': API_KEY,\n",
        "        'outputsize': 'compact'\n",
        "    }\n",
        "    #Response gets all the data for the specified stock\n",
        "    response = requests.get(URL, params=params)\n",
        "    #Data holds this data in json format\n",
        "    data = response.json()\n",
        "    #This queries the time stamps to keep only the most recent day\n",
        "    latest_date = list(data['Time Series (Daily)'].keys())[0]\n",
        "    # this returns only the most recent closing price\n",
        "    return data['Time Series (Daily)'][latest_date]['4. close']\n",
        "  #variable to represent this function output\n",
        "  stock_price = get_stock_price('WEAV')\n",
        "  stock_price = float(stock_price)\n",
        "\n",
        "  #function to get Number of Shares from excel spreadsheet\n",
        "  def read_excel(file_path, cell):\n",
        "    #Identify value of cell within specified sheet and workbook\n",
        "    workbook = openpyxl.load_workbook(file_path, data_only=True)\n",
        "    sheet = workbook['Final']\n",
        "    return sheet[cell].value\n",
        "  #identify path to spreadsheet\n",
        "  file_path = '/content/drive/MyDrive/Pitch Prices Auto/PricePositions.xlsx'\n",
        "  #variable for number of shares in spreadsheet\n",
        "  num_shares = read_excel(file_path, 'B33')\n",
        "  # stock_price = f\"{round(float(stock_price),2):.2f}\"\n",
        "  stock_price = float(stock_price)\n",
        "  num_shares = float(num_shares)\n",
        "  #Multiply number of stocks and stock price for overall value\n",
        "  stock_value = round(num_shares * stock_price)\n",
        "\n",
        "  #Function to update excel with the stock value\n",
        "  def update_stock_value(file_path, stock_value, cell):\n",
        "    #Input stock value to specified cell\n",
        "    workbook = openpyxl.load_workbook(file_path)\n",
        "    sheet = workbook['Final']\n",
        "    sheet[cell] = stock_value\n",
        "    workbook.save(file_path)\n",
        "  #Call update function\n",
        "  update_stock_value(file_path, stock_value, 'B36')\n",
        "\n",
        "  #Function to update excel with the stock value\n",
        "  def update_stock_price(file_path, stock_price, cell):\n",
        "    #Input stock value to specified cell\n",
        "    workbook = openpyxl.load_workbook(file_path)\n",
        "    sheet = workbook['Final']\n",
        "    sheet[cell] = stock_price\n",
        "    workbook.save(file_path)\n",
        "  #Call update function\n",
        "  update_stock_price(file_path, stock_price, 'B34')\n",
        "\n",
        "  #Check with spreadsheet\n",
        "  print(stock_price)\n",
        "  print(num_shares)\n",
        "  print(stock_value)\n",
        "\n",
        "WEAV()"
      ],
      "metadata": {
        "id": "n_xa615tee6o",
        "colab": {
          "base_uri": "https://localhost:8080/"
        },
        "outputId": "74fafc09-7387-48d3-e7cb-9afaf714cf1b"
      },
      "execution_count": null,
      "outputs": [
        {
          "output_type": "stream",
          "name": "stdout",
          "text": [
            "13.68\n",
            "4845927.0\n",
            "66292281\n"
          ]
        }
      ]
    },
    {
      "cell_type": "code",
      "source": [
        "# from pptx import Presentation\n",
        "\n",
        "# def update_powerpoint_slide(ppt_template_path, updated_text, slide_num, text_box_idx):\n",
        "#     prs = Presentation(ppt_template_path)\n",
        "#     slide = prs.slides[slide_num]\n",
        "#     text_box = slide.shapes[text_box_idx].text_frame\n",
        "#     text_box.text = updated_text\n",
        "\n",
        "#     # Save the updated PowerPoint\n",
        "#     prs.save('updated_presentation.pptx')\n",
        "\n",
        "# ppt_template_path = 'path_to_your_template.pptx'\n",
        "# update_powerpoint_slide(ppt_template_path, f\"Stock Value: {stock_value}\", 0, 0)  # First slide, first text box\n"
      ],
      "metadata": {
        "id": "4E_Z9yHljixL"
      },
      "execution_count": null,
      "outputs": []
    },
    {
      "cell_type": "code",
      "source": [
        "# import schedule\n",
        "# import time\n",
        "\n",
        "# def update_slides():\n",
        "#   #input functions\n",
        "\n",
        "# schedule.every().monday.at(\"9:00\").do(job)\n",
        "\n",
        "# while True:\n",
        "#   schedule.run_pending()\n",
        "#   time.sleep(1)"
      ],
      "metadata": {
        "id": "kyDtF0P2i-qt"
      },
      "execution_count": null,
      "outputs": []
    },
    {
      "cell_type": "code",
      "source": [
        "# import openpyxl\n",
        "# import os\n",
        "# import pandas as pd\n",
        "\n",
        "# def update_stock_price (file_path, stock_price, cell):\n",
        "\n",
        "#   workbook = openpyxl.load_workbook(file_path)\n",
        "#   sheet = workbook['Final']\n",
        "\n",
        "#   sheet[cell] = stock_price\n",
        "\n",
        "#   workbook.save(file_path)\n",
        "\n",
        "# file_path = '/content/PricePositions (1).xlsx'\n",
        "# update_stock_price(file_path, stock_price, 'C11')"
      ],
      "metadata": {
        "id": "NklrQ4JJPs9p"
      },
      "execution_count": null,
      "outputs": []
    },
    {
      "cell_type": "code",
      "source": [
        "# # Define the file path\n",
        "# file_path = '/Users/harrisonstone/Downloads/PricePositions.xlsx'\n",
        "\n",
        "# df = pd.read_excel(file_path, sheet_name='Sheet 1')"
      ],
      "metadata": {
        "id": "4kp6BbNYHycr"
      },
      "execution_count": null,
      "outputs": []
    },
    {
      "cell_type": "code",
      "source": [
        "# import openpyxl\n",
        "\n",
        "# # Define the file path\n",
        "# file_path = '/Users/harrisonstone/Downloads/PricePositions.xlsx'\n",
        "\n",
        "# # Load the workbook\n",
        "# workbook = openpyxl.load_workbook(file_path)\n",
        "\n",
        "# # Select the specific sheet you're working with (replace 'Sheet1' with the actual sheet name)\n",
        "# sheet = workbook['Sheet1']\n",
        "\n",
        "# # Example: Read the value from cell C13\n",
        "# value = sheet['C13'].value\n",
        "# print(f\"Value in C13: {value}\")"
      ],
      "metadata": {
        "id": "EaNEgvCGFxHD"
      },
      "execution_count": null,
      "outputs": []
    },
    {
      "cell_type": "code",
      "source": [
        "# !pip3 install xlwings"
      ],
      "metadata": {
        "collapsed": true,
        "id": "v9BCoTVKYbQH"
      },
      "execution_count": null,
      "outputs": []
    },
    {
      "cell_type": "code",
      "source": [
        "# import xlwings as xw\n",
        "\n",
        "# def update_excel(file_path):\n",
        "\n",
        "#   app = xw.App(visible=False)\n",
        "#   wb = xw.Book(file_path)\n",
        "\n",
        "#   wb.app.calculate()\n",
        "\n",
        "#   wb.save()\n",
        "#   wb.close()\n",
        "#   app.quit()\n",
        "\n",
        "# update_excel(file_path)"
      ],
      "metadata": {
        "collapsed": true,
        "id": "cyi-16VIUilz"
      },
      "execution_count": null,
      "outputs": []
    },
    {
      "cell_type": "code",
      "source": [
        "# file_path = 'PricePositions (1).xlsx'\n",
        "\n",
        "# df = pd.read_excel(file_path, sheet_name='Final')\n",
        "\n",
        "# stock_value = df.iloc[12, 2]\n",
        "# print(stock_value)"
      ],
      "metadata": {
        "id": "tHCpKDm0opVE"
      },
      "execution_count": null,
      "outputs": []
    }
  ]
}